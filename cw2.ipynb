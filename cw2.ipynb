{
 "cells": [
  {
   "cell_type": "markdown",
   "metadata": {
    "collapsed": false
   },
   "source": [
    "First, we created a program named coord.py to split the range $[0,1]$ into $n$ equal intervals, using 3 different methods.  Demonstrated below, the range is split into 5 equal intervals, with 6 points specified in the list below."
   ]
  },
  {
   "cell_type": "code",
   "execution_count": 1,
   "metadata": {
    "collapsed": false
   },
   "outputs": [
    {
     "name": "stdout",
     "output_type": "stream",
     "text": [
      "[0.0, 0.2, 0.4, 0.6000000000000001, 0.8, 1.0]\n",
      "[0.0, 0.2, 0.4, 0.6000000000000001, 0.8, 1.0]\n",
      "[0.0, 0.2, 0.4, 0.6000000000000001, 0.8, 1.0]\n",
      "Split into 5 intervals.\n"
     ]
    }
   ],
   "source": [
    "import coord"
   ]
  },
  {
   "cell_type": "markdown",
   "metadata": {
    "collapsed": false
   },
   "source": [
    "Next, we created a program fibs.py that produced the first $n$ Fibonacci numbers. We did this using two separate methods.  The first 5 Fibonacci numbers are shown below, computed by the program."
   ]
  },
  {
   "cell_type": "code",
   "execution_count": 2,
   "metadata": {
    "collapsed": false
   },
   "outputs": [
    {
     "name": "stdout",
     "output_type": "stream",
     "text": [
      "[1, 1, 2, 3, 5]\n",
      "[1, 1, 2, 3, 5]\n"
     ]
    }
   ],
   "source": [
    "import fibs"
   ]
  },
  {
   "cell_type": "markdown",
   "metadata": {
    "collapsed": false
   },
   "source": [
    "Finally, we wrote a program converge.py to approximate the infinite sum\n",
    "$$\\sum_{k=1}^\\infty \\frac{1}{k^2} \\equiv \\lim_{n \\to \\infty} \\sum_{k=1}^{\\infty} \\frac{1}{k^2}$$\n",
    "We approximated this to a tolerance specified by user input.  As we shrink this tolerance, we see a more accurate picture of what the sum converges to."
   ]
  },
  {
   "cell_type": "code",
   "execution_count": 10,
   "metadata": {
    "collapsed": false
   },
   "outputs": [
   ],
   "source": [
    "import converge"
   ]
  },
  {
   "cell_type": "code",
   "execution_count": 11,
   "metadata": {
    "cocalc": {
     "outputs": {
      "0": {
       "name": "input",
       "opts": {
        "password": false,
        "prompt": "What tolerance will you accept? "
       },
       "output_type": "stream",
       "value": "1e-2"
      }
     }
    },
    "collapsed": false
   },
   "outputs": [
    {
     "name": "stdout",
     "output_type": "stream",
     "text": "What tolerance will you accept?  1e-2"
    },
    {
     "name": "stdout",
     "output_type": "stream",
     "text": [
      "1.558032193976458\n"
     ]
    }
   ],
   "source": [
    "run converge"
   ]
  },
  {
   "cell_type": "code",
   "execution_count": 12,
   "metadata": {
    "cocalc": {
     "outputs": {
      "0": {
       "name": "input",
       "opts": {
        "password": false,
        "prompt": "What tolerance will you accept? "
       },
       "output_type": "stream",
       "value": "1e-4"
      }
     }
    },
    "collapsed": false
   },
   "outputs": [
    {
     "name": "stdout",
     "output_type": "stream",
     "text": "What tolerance will you accept?  1e-4"
    },
    {
     "name": "stdout",
     "output_type": "stream",
     "text": [
      "1.6349839001848923\n"
     ]
    }
   ],
   "source": [
    "run converge"
   ]
  },
  {
   "cell_type": "code",
   "execution_count": 13,
   "metadata": {
    "cocalc": {
     "outputs": {
      "0": {
       "name": "input",
       "opts": {
        "password": false,
        "prompt": "What tolerance will you accept? "
       },
       "output_type": "stream",
       "value": "1e-10"
      }
     }
    },
    "collapsed": false
   },
   "outputs": [
    {
     "name": "stdout",
     "output_type": "stream",
     "text": "What tolerance will you accept?  1e-10"
    },
    {
     "name": "stdout",
     "output_type": "stream",
     "text": [
      "1.6449240669982403\n"
     ]
    }
   ],
   "source": [
    "run converge"
   ]
  },
  {
   "cell_type": "code",
   "execution_count": 15,
   "metadata": {
    "cocalc": {
     "outputs": {
      "0": {
       "name": "input",
       "opts": {
        "password": false,
        "prompt": "What tolerance will you accept? "
       },
       "output_type": "stream",
       "value": "1e-12"
      }
     }
    },
    "collapsed": false
   },
   "outputs": [
    {
     "name": "stdout",
     "output_type": "stream",
     "text": "What tolerance will you accept?  1e-12"
    },
    {
     "name": "stdout",
     "output_type": "stream",
     "text": [
      "1.644933066860771\n"
     ]
    }
   ],
   "source": [
    "run converge"
   ]
  },
  {
   "cell_type": "markdown",
   "metadata": {
    "collapsed": false
   },
   "source": [
    "We see that to a very good approximation, our sum converges to a finite value.\n",
    "$$\\sum_{k=1}^\\infty \\frac{1}{k^2} \\approx 1.644$$"
   ]
  },
  {
   "cell_type": "code",
   "execution_count": 0,
   "metadata": {
    "collapsed": false
   },
   "outputs": [
   ],
   "source": [
   ]
  }
 ],
 "metadata": {
  "kernelspec": {
   "display_name": "Python 3 (Ubuntu Linux)",
   "language": "python",
   "name": "python3"
  },
  "language_info": {
   "codemirror_mode": {
    "name": "ipython",
    "version": 3
   },
   "file_extension": ".py",
   "mimetype": "text/x-python",
   "name": "python",
   "nbconvert_exporter": "python",
   "pygments_lexer": "ipython3",
   "version": "3.5.2"
  }
 },
 "nbformat": 4,
 "nbformat_minor": 0
}